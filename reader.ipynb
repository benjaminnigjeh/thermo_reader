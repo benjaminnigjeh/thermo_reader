{
 "cells": [
  {
   "cell_type": "markdown",
   "metadata": {},
   "source": [
    "###import libraries and dependencies"
   ]
  },
  {
   "cell_type": "code",
   "execution_count": 1,
   "metadata": {},
   "outputs": [],
   "source": [
    "from fisher_py.data.business import Scan\n",
    "from fisher_py import RawFile\n",
    "from sklearn.metrics.pairwise import cosine_similarity\n",
    "import re\n",
    "import numpy as np\n",
    "import pandas as pd\n",
    "import pickle "
   ]
  },
  {
   "cell_type": "markdown",
   "metadata": {},
   "source": [
    "###import raw file"
   ]
  },
  {
   "cell_type": "code",
   "execution_count": 3,
   "metadata": {},
   "outputs": [],
   "source": [
    "raw = RawFile(\"C:/20231215_msz1718_MAbPac-06_Neo_ACN1_TreatmentA_biorep01_techrep01.raw\")"
   ]
  },
  {
   "cell_type": "markdown",
   "metadata": {},
   "source": [
    "###helper functions"
   ]
  },
  {
   "cell_type": "code",
   "execution_count": 4,
   "metadata": {},
   "outputs": [],
   "source": [
    "def helper_regex(text):\n",
    "    match = re.search(rf\"{'Full'}\\s+(\\w+)\", text)\n",
    "    if match:\n",
    "        return match.group(1)\n",
    "    return None"
   ]
  },
  {
   "cell_type": "markdown",
   "metadata": {},
   "source": [
    "### cast function for 0.1 amu resolution"
   ]
  },
  {
   "cell_type": "code",
   "execution_count": 6,
   "metadata": {},
   "outputs": [],
   "source": [
    "def cast_func(scan_number):\n",
    "    scan_masses = []\n",
    "    scan_intensities = []\n",
    "    data_masses = []\n",
    "    data_intensities = [] \n",
    "\n",
    "\n",
    "    raw_scan = Scan.from_file(raw._raw_file_access, scan_number=scan_number)\n",
    "    precursor = float(re.findall(r'[\\d]*[.][\\d]+', raw_scan.scan_type)[1])\n",
    "    scan_masses = raw_scan.preferred_masses\n",
    "    scan_intensities = raw_scan.preferred_intensities\n",
    "\n",
    "    for i in range(4000, 20000): \n",
    "        data_intensities.append(0) \n",
    "        data_masses.append(i/10)\n",
    "\n",
    "    for j in range(0,len(scan_masses)):\n",
    "        for i in range(0,len(data_masses)):\n",
    "            if (i+ 4000 + 1)/10 > scan_masses[j] > (i + 4000)/10: \n",
    "                data_intensities[i] = data_intensities[i] + scan_intensities[j]\n",
    "\n",
    "    # for i in range(0,16000):\n",
    "    #     if (precursor -10) < data_masses[i] < (precursor +10): data_intensities[i] = 0\n",
    "        \n",
    "    return(list(data_intensities))"
   ]
  },
  {
   "cell_type": "markdown",
   "metadata": {},
   "source": [
    "###cast function fro 1 amu resolution"
   ]
  },
  {
   "cell_type": "code",
   "execution_count": 45,
   "metadata": {},
   "outputs": [],
   "source": [
    "def cast_func_1amu(scan_number):\n",
    "    scan_masses = []\n",
    "    scan_intensities = []\n",
    "    data_masses = []\n",
    "    data_intensities = [] \n",
    "    scan_masses1 = []\n",
    "    scan_intensities1 = []\n",
    "\n",
    "\n",
    "    raw_scan = Scan.from_file(raw._raw_file_access, scan_number=scan_number)\n",
    "    precursor = float(re.findall(r'[\\d]*[.][\\d]+', raw_scan.scan_type)[1])\n",
    "  \n",
    "    scan_masses = raw_scan.preferred_masses\n",
    "    scan_intensities = raw_scan.preferred_intensities\n",
    "   \n",
    "    for k in range(0, len(scan_intensities)):\n",
    "        if scan_intensities[k] > (5/100)*max(scan_intensities): \n",
    "            scan_intensities1.append(scan_intensities[k])\n",
    "            scan_masses1.append(scan_masses[k])\n",
    "\n",
    "\n",
    "    for i in range(400, 2000): \n",
    "        data_intensities.append(0) \n",
    "        data_masses.append(i)\n",
    "\n",
    "    for j in range(0,len(scan_masses1)):\n",
    "        for i in range(0,len(data_masses)):\n",
    "            if (i+ 400 + 1) > scan_masses1[j] > (i + 400): \n",
    "                data_intensities[i] = data_intensities[i] + scan_intensities1[j]\n",
    "\n",
    "    # for i in range(0,16000):\n",
    "    #     if (precursor -10) < data_masses[i] < (precursor +10): data_intensities[i] = 0\n",
    "        \n",
    "    return(list(data_intensities))"
   ]
  },
  {
   "cell_type": "markdown",
   "metadata": {},
   "source": [
    "### generating distances against a single scan"
   ]
  },
  {
   "cell_type": "code",
   "execution_count": null,
   "metadata": {},
   "outputs": [],
   "source": [
    "ref_scan = cast_func_1amu(10244)\n",
    "scan_id = []\n",
    "scan_sim = []\n",
    "precursor = []\n",
    "\n",
    "for i in range(1, raw.number_of_scans):\n",
    "    raw_scan = Scan.from_file(raw._raw_file_access, scan_number=i)\n",
    "    if str(helper_regex(raw_scan.scan_type)) == 'ms2':\n",
    "        X = [ref_scan, cast_func_1amu(i)]\n",
    "        result = round(cosine_similarity(X)[1][0], 2)       \n",
    "        precursor.append(float(re.findall(r'[\\d]*[.][\\d]+', raw_scan.scan_type)[1]))\n",
    "        scan_id.append(i)\n",
    "        scan_sim.append(result)\n",
    "        print(float(re.findall(r'[\\d]*[.][\\d]+', raw_scan.scan_type)[1]), \"in scan\", i, \"is\", result)\n",
    "\n",
    "np.savetxt(\"outputall.csv\", np.transpose(np.vstack((np.array(scan_id), np.array(precursor), np.array(scan_sim)))) , delimiter=\",\")"
   ]
  },
  {
   "cell_type": "markdown",
   "metadata": {},
   "source": [
    "### generate a database"
   ]
  },
  {
   "cell_type": "code",
   "execution_count": null,
   "metadata": {},
   "outputs": [],
   "source": [
    "database = []\n",
    "\n",
    "for i in range(1, raw.number_of_scans):\n",
    "    raw_scan = Scan.from_file(raw._raw_file_access, scan_number=i)\n",
    "    if str(helper_regex(raw_scan.scan_type)) == 'ms2':\n",
    "        print(i)\n",
    "        database.append(cast_func_1amu(i))\n",
    "\n"
   ]
  },
  {
   "cell_type": "code",
   "execution_count": 9,
   "metadata": {},
   "outputs": [],
   "source": [
    "with open('database', 'wb') as f: \n",
    "     pickle.dump(database, f) "
   ]
  },
  {
   "cell_type": "markdown",
   "metadata": {},
   "source": [
    "###search against a database"
   ]
  },
  {
   "cell_type": "code",
   "execution_count": null,
   "metadata": {},
   "outputs": [],
   "source": [
    "with open('database', 'rb') as f: \n",
    "     database = pickle.load(f) \n",
    "\n",
    "for i in range(0, len(database)):\n",
    "    X = [database[0], database[i]]\n",
    "    result = round(cosine_similarity(X)[1][0], 2)  \n",
    "    print(result)"
   ]
  },
  {
   "cell_type": "code",
   "execution_count": 25,
   "metadata": {},
   "outputs": [
    {
     "data": {
      "text/plain": [
       "1907.007568359375"
      ]
     },
     "execution_count": 25,
     "metadata": {},
     "output_type": "execute_result"
    }
   ],
   "source": [
    "raw_scan = Scan.from_file(raw._raw_file_access, scan_number=1000)\n",
    "\n",
    "max(raw_scan.preferred_masses)\n",
    "\n"
   ]
  }
 ],
 "metadata": {
  "kernelspec": {
   "display_name": "Python 3",
   "language": "python",
   "name": "python3"
  },
  "language_info": {
   "codemirror_mode": {
    "name": "ipython",
    "version": 3
   },
   "file_extension": ".py",
   "mimetype": "text/x-python",
   "name": "python",
   "nbconvert_exporter": "python",
   "pygments_lexer": "ipython3",
   "version": "3.8.19"
  }
 },
 "nbformat": 4,
 "nbformat_minor": 2
}
