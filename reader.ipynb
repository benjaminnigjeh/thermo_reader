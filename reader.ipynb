{
 "cells": [
  {
   "cell_type": "code",
   "execution_count": 1,
   "metadata": {},
   "outputs": [],
   "source": [
    "from fisher_py.data.business import Scan\n",
    "from fisher_py import RawFile\n",
    "from sklearn.metrics.pairwise import cosine_similarity\n",
    "import re\n",
    "import numpy as np\n",
    "import pandas as pd\n",
    "import pickle "
   ]
  },
  {
   "cell_type": "markdown",
   "metadata": {},
   "source": [
    "### helper functions"
   ]
  },
  {
   "cell_type": "code",
   "execution_count": 93,
   "metadata": {},
   "outputs": [],
   "source": [
    "def helper_regex(text):\n",
    "    match = re.search(rf\"{'Full'}\\s+(\\w+)\", text)\n",
    "    if match:\n",
    "        return match.group(1)\n",
    "    return None\n",
    "\n",
    "def cast_func(scan_number):\n",
    "    scan_masses = []\n",
    "    scan_intensities = []\n",
    "    data_masses = []\n",
    "    data_intensities = [] \n",
    "\n",
    "\n",
    "    raw_scan = Scan.from_file(raw._raw_file_access, scan_number=scan_number)\n",
    "    precursor = float(re.findall(r'[\\d]*[.][\\d]+', raw_scan.scan_type)[1])\n",
    "    scan_masses = raw_scan.preferred_masses\n",
    "    scan_intensities = raw_scan.preferred_intensities\n",
    "\n",
    "    for i in range(4000, 20000): \n",
    "        data_intensities.append(0) \n",
    "        data_masses.append(i/10)\n",
    "\n",
    "    for j in range(0,len(scan_masses)):\n",
    "        for i in range(0,len(data_masses)):\n",
    "            if (i+ 4000 + 1)/10 > scan_masses[j] > (i + 4000)/10: \n",
    "                data_intensities[i] = data_intensities[i] + scan_intensities[j]\n",
    "\n",
    "    for i in range(0,16000):\n",
    "        if (precursor -5) < data_masses[i] < (precursor +5): data_intensities[i] = 0\n",
    "        \n",
    "    return(list(data_intensities))\n",
    "\n",
    "def cast_func_1amu(scan_number):\n",
    "    scan_masses = []\n",
    "    scan_intensities = []\n",
    "    data_masses = []\n",
    "    data_intensities = [] \n",
    " \n",
    "\n",
    "\n",
    "    raw_scan = Scan.from_file(raw._raw_file_access, scan_number=scan_number)\n",
    "    precursor = float(re.findall(r'[\\d]*[.][\\d]+', raw_scan.scan_type)[1])\n",
    "  \n",
    "    scan_masses = raw_scan.preferred_masses\n",
    "    scan_intensities = raw_scan.preferred_intensities\n",
    "   \n",
    "    # for k in range(0, len(scan_intensities)):\n",
    "    #     if scan_intensities[k] > (5/100)*max(scan_intensities): \n",
    "    #         scan_intensities1.append(scan_intensities[k])\n",
    "    #         scan_masses1.append(scan_masses[k])\n",
    "\n",
    "\n",
    "    for i in range(400, 2000): \n",
    "        data_intensities.append(0) \n",
    "        data_masses.append(i)\n",
    "\n",
    "    for j in range(0,len(scan_masses)):\n",
    "        for i in range(0,len(data_masses)):\n",
    "            if (i+ 400 + 1) > scan_masses[j] > (i + 400): \n",
    "                data_intensities[i] = data_intensities[i] + scan_intensities[j]\n",
    "\n",
    "    # for i in range(0,len(data_masses)):\n",
    "    #     if (precursor -5) < data_masses[i] < (precursor +5): data_intensities[i] = 0\n",
    "        \n",
    "    return(list(data_intensities))\n",
    "\n"
   ]
  },
  {
   "cell_type": "markdown",
   "metadata": {},
   "source": [
    "### select a raw file"
   ]
  },
  {
   "cell_type": "code",
   "execution_count": 13,
   "metadata": {},
   "outputs": [],
   "source": [
    "# raw = RawFile(\"C:/20231215_msz1718_MAbPac-06_Neo_ACN1_TreatmentA_biorep01_techrep01.raw\")\n",
    "# raw = RawFile(\"C:/20231221_msz1718_MAbPac-02_Neo_ExtraValveT_ACN30S1_TreatmentA_biorep01_techrep01.raw\")\n",
    "raw = RawFile(\"C:/20240708_chm134_Nadig_MAbPac-04A_Proteo06_Group01_Time00_biorep01_techrep01.raw\")"
   ]
  },
  {
   "cell_type": "markdown",
   "metadata": {},
   "source": [
    "### generate a cast spectra database including scan index, retention time, precursor m/z values, and TIC"
   ]
  },
  {
   "cell_type": "code",
   "execution_count": null,
   "metadata": {},
   "outputs": [],
   "source": [
    "cast_spectra = []\n",
    "mz_value = []\n",
    "tic = []\n",
    "scan_number = []\n",
    "retention_time = []\n",
    "\n",
    "for i in range(1, raw.number_of_scans):\n",
    "    raw_scan = Scan.from_file(raw._raw_file_access, scan_number=i)\n",
    "    if str(helper_regex(raw_scan.scan_type)) == 'ms2':\n",
    "        cast_spectra.append(cast_func_1amu(i))\n",
    "        mz_value.append(float(re.findall(r'[\\d]*[.][\\d]+', raw_scan.scan_type)[1]))\n",
    "        tic.append(raw_scan.scan_statistics.tic)\n",
    "        scan_number.append(raw_scan.scan_statistics.scan_number)\n",
    "        retention_time.append(raw.get_retention_time_from_scan_number(raw_scan.scan_statistics.scan_number))\n",
    "        print(\"scan\", i, \"is complete\")\n",
    "\n",
    "scan_dict = {'scan': scan_number, 'retntion time': retention_time, 'm/z': mz_value, 'TIC': tic, 'cast spectra': cast_spectra} \n",
    "\n",
    "with open('scan_dict_run1', 'wb') as f: \n",
    "     pickle.dump(scan_dict, f) \n",
    "\n",
    "print(\"completed\")"
   ]
  },
  {
   "cell_type": "code",
   "execution_count": null,
   "metadata": {},
   "outputs": [],
   "source": [
    "pd.DataFrame(scan_dict)"
   ]
  },
  {
   "cell_type": "code",
   "execution_count": 3,
   "metadata": {},
   "outputs": [],
   "source": [
    "with open('scan_dict_run1', 'rb') as f: \n",
    "     scan_dict_run1 = pickle.load(f) \n",
    "\n",
    "# with open('scan_dict_run2', 'rb') as f: \n",
    "#      scan_dict_run2 = pickle.load(f) "
   ]
  },
  {
   "cell_type": "markdown",
   "metadata": {},
   "source": [
    "### search a complete run against a database"
   ]
  },
  {
   "cell_type": "code",
   "execution_count": null,
   "metadata": {},
   "outputs": [],
   "source": [
    "pd.DataFrame(scan_dict_run1)"
   ]
  },
  {
   "cell_type": "code",
   "execution_count": null,
   "metadata": {},
   "outputs": [],
   "source": [
    "database_1 = scan_dict_run1[\"cast spectra\"]\n",
    "database_2 = scan_dict_run2[\"cast spectra\"]\n",
    "\n",
    "mz_value_1 = scan_dict_run1[\"m/z\"]\n",
    "mz_value_2 = scan_dict_run2[\"m/z\"]\n",
    "\n",
    "scan_index_1 = scan_dict_run1[\"scan\"]\n",
    "scan_index_2 = scan_dict_run2[\"scan\"]\n",
    "\n",
    "similarity = []\n",
    "match_scan = []\n",
    "\n",
    "for i in range(0, len(database_2)):\n",
    "    similarity.append(0)\n",
    "for i in range(0, len(database_2)):\n",
    "    match_scan.append(0)\n",
    "\n",
    "\n",
    "for i in range(0, len(database_2)):\n",
    "    for j in range(0, len(database_1)):\n",
    "        if mz_value_2[i] - 1 < mz_value_1[j] < mz_value_2[i] + 1:\n",
    "            X = [database_2[i], database_1[j]]\n",
    "            if round(cosine_similarity(X)[1][0], 2) > similarity[i]: \n",
    "                similarity[i] = round(cosine_similarity(X)[1][0], 2)\n",
    "                match_scan[i] = scan_index_1[j]\n",
    "    print(\"the max similarity for index\", i, \"is\", similarity[i], \"found in index \", match_scan[i])"
   ]
  },
  {
   "cell_type": "code",
   "execution_count": 102,
   "metadata": {},
   "outputs": [],
   "source": [
    "scan_dict_run2['similarity'] = similarity\n",
    "scan_dict_run2['match_scan'] = match_scan\n",
    "del scan_dict_run2['cast spectra']"
   ]
  },
  {
   "cell_type": "code",
   "execution_count": 105,
   "metadata": {},
   "outputs": [],
   "source": [
    "df = pd.DataFrame(scan_dict_run2)\n",
    "df.to_csv('result.csv')\n"
   ]
  },
  {
   "cell_type": "markdown",
   "metadata": {},
   "source": [
    "### run a single spectra against a database"
   ]
  },
  {
   "cell_type": "code",
   "execution_count": null,
   "metadata": {},
   "outputs": [],
   "source": [
    "ref_scan = cast_func_1amu(4291)\n",
    "scan_id = []\n",
    "scan_sim = []\n",
    "precursor = []\n",
    "\n",
    "\n",
    "\n",
    "for i in range(1, raw.number_of_scans):\n",
    "    raw_scan = Scan.from_file(raw._raw_file_access, scan_number=i)\n",
    "    if str(helper_regex(raw_scan.scan_type)) == 'ms2':\n",
    "        X = [ref_scan, cast_func_1amu(i)]\n",
    "        result = round(cosine_similarity(X)[1][0], 2)       \n",
    "        precursor.append(float(re.findall(r'[\\d]*[.][\\d]+', raw_scan.scan_type)[1]))\n",
    "        scan_id.append(i)\n",
    "        scan_sim.append(result)\n",
    "        print(float(re.findall(r'[\\d]*[.][\\d]+', raw_scan.scan_type)[1]), \"in scan\", i, \"is\", result)\n",
    "\n"
   ]
  },
  {
   "cell_type": "code",
   "execution_count": 120,
   "metadata": {},
   "outputs": [],
   "source": [
    "result_match = {'scan_id': scan_id, 'scan_sim': scan_sim, 'precursor': precursor}"
   ]
  },
  {
   "cell_type": "code",
   "execution_count": 122,
   "metadata": {},
   "outputs": [],
   "source": [
    "a = pd.DataFrame(result_match)\n",
    "a.to_csv(\"result_match.csv\")"
   ]
  },
  {
   "cell_type": "code",
   "execution_count": null,
   "metadata": {},
   "outputs": [],
   "source": [
    "pd.DataFrame(scan_dict_run1)"
   ]
  },
  {
   "cell_type": "code",
   "execution_count": 81,
   "metadata": {},
   "outputs": [
    {
     "name": "stdout",
     "output_type": "stream",
     "text": [
      "1.0\n"
     ]
    }
   ],
   "source": [
    "X = [cast_func(1000), cast_func(1000)]\n",
    "result = round(cosine_similarity(X)[1][0], 2)  \n",
    "print(result)"
   ]
  },
  {
   "cell_type": "code",
   "execution_count": 102,
   "metadata": {},
   "outputs": [
    {
     "name": "stdout",
     "output_type": "stream",
     "text": [
      "1010 0.0\n"
     ]
    }
   ],
   "source": [
    "for i in [1010]:\n",
    "    X = [cast_func_1amu(1009), cast_func_1amu(i)]\n",
    "    result = round(cosine_similarity(X)[1][0], 2)  \n",
    "    print(i, result)"
   ]
  }
 ],
 "metadata": {
  "kernelspec": {
   "display_name": "Python 3",
   "language": "python",
   "name": "python3"
  },
  "language_info": {
   "codemirror_mode": {
    "name": "ipython",
    "version": 3
   },
   "file_extension": ".py",
   "mimetype": "text/x-python",
   "name": "python",
   "nbconvert_exporter": "python",
   "pygments_lexer": "ipython3",
   "version": "3.8.19"
  }
 },
 "nbformat": 4,
 "nbformat_minor": 2
}
