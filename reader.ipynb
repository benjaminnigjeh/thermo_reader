{
 "cells": [
  {
   "cell_type": "code",
   "execution_count": 3,
   "metadata": {},
   "outputs": [],
   "source": [
    "import numpy as np\n",
    "import pandas as pd\n",
    "from fisher_py.data.business import Scan\n",
    "from fisher_py import RawFile\n",
    "\n",
    "import pysptools"
   ]
  },
  {
   "cell_type": "code",
   "execution_count": 4,
   "metadata": {},
   "outputs": [],
   "source": [
    "raw = RawFile(\"c:/20240708_chm134_Nadig_MAbPac-04A_Proteo06_Group01_Time00_biorep01_techrep01.raw\")"
   ]
  },
  {
   "cell_type": "code",
   "execution_count": 7,
   "metadata": {},
   "outputs": [],
   "source": [
    "def my_func(scan_number):\n",
    "    scan_masses = []\n",
    "    scan_intensities = []\n",
    "    data_masses = []\n",
    "    data_intensities = [] \n",
    "\n",
    "\n",
    "    raw_scan = Scan.from_file(raw._raw_file_access, scan_number=scan_number).centroid_scan\n",
    "    scan_masses = raw_scan.masses\n",
    "    scan_intensities = raw_scan.intensities\n",
    "\n",
    "    for i in range(4000, 20000): \n",
    "        data_intensities.append(0) \n",
    "        data_masses.append(i/10)\n",
    "\n",
    "    for j in range(0,len(scan_masses)):\n",
    "        for i in range(0,len(data_masses)):\n",
    "            if (i+ 4000 + 1)/10 > scan_masses[j] > (i + 4000)/10: \n",
    "                data_intensities[i] = data_intensities[i] + scan_intensities[j]\n",
    "    return(np.array(data_intensities))\n",
    "\n",
    "    "
   ]
  },
  {
   "cell_type": "code",
   "execution_count": 4,
   "metadata": {},
   "outputs": [],
   "source": [
    "data_masses = []\n",
    "for i in range(4000, 20000): data_masses.append(i/10)\n",
    "\n",
    "result = np.vstack((data_masses, my_func(1000), my_func(1001), my_func(1002), my_func(1004), my_func(1005), my_func(1006), my_func(1007), my_func(1008), my_func(1009), my_func(1010)))"
   ]
  },
  {
   "cell_type": "code",
   "execution_count": null,
   "metadata": {},
   "outputs": [],
   "source": [
    "print(result)"
   ]
  },
  {
   "cell_type": "code",
   "execution_count": 6,
   "metadata": {},
   "outputs": [],
   "source": [
    "np.savetxt('D:/test.csv', result, delimiter=',')"
   ]
  },
  {
   "cell_type": "code",
   "execution_count": 7,
   "metadata": {},
   "outputs": [],
   "source": [
    "df1 = pd.DataFrame(result)"
   ]
  },
  {
   "cell_type": "code",
   "execution_count": 9,
   "metadata": {},
   "outputs": [],
   "source": [
    "df1.to_csv('oo.csv')"
   ]
  },
  {
   "cell_type": "code",
   "execution_count": null,
   "metadata": {},
   "outputs": [],
   "source": [
    "from pysptools import distance\n",
    "import math\n",
    "\n",
    "a = pysptools.distance.SAM(my_func(1010), my_func(1002))\n",
    "b = math.cos(a * 57.3)\n",
    "print(b)"
   ]
  },
  {
   "cell_type": "code",
   "execution_count": 2,
   "metadata": {},
   "outputs": [],
   "source": [
    "from sklearn.metrics.pairwise import cosine_similarity"
   ]
  },
  {
   "cell_type": "code",
   "execution_count": 8,
   "metadata": {},
   "outputs": [
    {
     "ename": "TypeError",
     "evalue": "Field elements must be 2- or 3-tuples, got '0'",
     "output_type": "error",
     "traceback": [
      "\u001b[1;31m---------------------------------------------------------------------------\u001b[0m",
      "\u001b[1;31mTypeError\u001b[0m                                 Traceback (most recent call last)",
      "Cell \u001b[1;32mIn[8], line 1\u001b[0m\n\u001b[1;32m----> 1\u001b[0m cosine_similarity(\u001b[43mmy_func\u001b[49m\u001b[43m(\u001b[49m\u001b[38;5;241;43m1000\u001b[39;49m\u001b[43m)\u001b[49m, my_func(\u001b[38;5;241m1001\u001b[39m))\n",
      "Cell \u001b[1;32mIn[7], line 20\u001b[0m, in \u001b[0;36mmy_func\u001b[1;34m(scan_number)\u001b[0m\n\u001b[0;32m     18\u001b[0m         \u001b[38;5;28;01mif\u001b[39;00m (i\u001b[38;5;241m+\u001b[39m \u001b[38;5;241m4000\u001b[39m \u001b[38;5;241m+\u001b[39m \u001b[38;5;241m1\u001b[39m)\u001b[38;5;241m/\u001b[39m\u001b[38;5;241m10\u001b[39m \u001b[38;5;241m>\u001b[39m scan_masses[j] \u001b[38;5;241m>\u001b[39m (i \u001b[38;5;241m+\u001b[39m \u001b[38;5;241m4000\u001b[39m)\u001b[38;5;241m/\u001b[39m\u001b[38;5;241m10\u001b[39m: \n\u001b[0;32m     19\u001b[0m             data_intensities[i] \u001b[38;5;241m=\u001b[39m data_intensities[i] \u001b[38;5;241m+\u001b[39m scan_intensities[j]\n\u001b[1;32m---> 20\u001b[0m \u001b[38;5;28;01mreturn\u001b[39;00m(\u001b[43mnp\u001b[49m\u001b[38;5;241;43m.\u001b[39;49m\u001b[43marray\u001b[49m\u001b[43m(\u001b[49m\u001b[43mdata_masses\u001b[49m\u001b[43m,\u001b[49m\u001b[43m \u001b[49m\u001b[43mdata_intensities\u001b[49m\u001b[43m)\u001b[49m)\n",
      "\u001b[1;31mTypeError\u001b[0m: Field elements must be 2- or 3-tuples, got '0'"
     ]
    }
   ],
   "source": [
    "cosine_similarity(my_func(1000), my_func(1001))"
   ]
  }
 ],
 "metadata": {
  "kernelspec": {
   "display_name": "Python 3",
   "language": "python",
   "name": "python3"
  },
  "language_info": {
   "codemirror_mode": {
    "name": "ipython",
    "version": 3
   },
   "file_extension": ".py",
   "mimetype": "text/x-python",
   "name": "python",
   "nbconvert_exporter": "python",
   "pygments_lexer": "ipython3",
   "version": "3.8.19"
  }
 },
 "nbformat": 4,
 "nbformat_minor": 2
}
