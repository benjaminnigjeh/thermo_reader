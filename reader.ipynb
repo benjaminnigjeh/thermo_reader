{
 "cells": [
  {
   "cell_type": "code",
   "execution_count": 26,
   "metadata": {},
   "outputs": [],
   "source": [
    "from fisher_py.data.business import Scan\n",
    "from fisher_py import RawFile\n",
    "from sklearn.metrics.pairwise import cosine_similarity\n",
    "import re"
   ]
  },
  {
   "cell_type": "code",
   "execution_count": 27,
   "metadata": {},
   "outputs": [],
   "source": [
    "raw = RawFile(\"c:/20240708_chm134_Nadig_MAbPac-04A_Proteo06_Group01_Time00_biorep01_techrep01.raw\")"
   ]
  },
  {
   "cell_type": "code",
   "execution_count": 28,
   "metadata": {},
   "outputs": [],
   "source": [
    "def helper_regex(text):\n",
    "    match = re.search(rf\"{'Full'}\\s+(\\w+)\", text)\n",
    "    if match:\n",
    "        return match.group(1)\n",
    "    return None"
   ]
  },
  {
   "cell_type": "code",
   "execution_count": 30,
   "metadata": {},
   "outputs": [],
   "source": [
    "def cast_func(scan_number):\n",
    "    scan_masses = []\n",
    "    scan_intensities = []\n",
    "    data_masses = []\n",
    "    data_intensities = [] \n",
    "\n",
    "\n",
    "    raw_scan = Scan.from_file(raw._raw_file_access, scan_number=scan_number)\n",
    "    precursor = float(re.findall(r'[\\d]*[.][\\d]+', raw_scan.scan_type)[1])\n",
    "    scan_masses = raw_scan.preferred_masses\n",
    "    scan_intensities = raw_scan.preferred_intensities\n",
    "\n",
    "    for i in range(4000, 20000): \n",
    "        data_intensities.append(0) \n",
    "        data_masses.append(i/10)\n",
    "\n",
    "    for j in range(0,len(scan_masses)):\n",
    "        for i in range(0,len(data_masses)):\n",
    "            if (i+ 4000 + 1)/10 > scan_masses[j] > (i + 4000)/10: \n",
    "                data_intensities[i] = data_intensities[i] + scan_intensities[j]\n",
    "\n",
    "    # for i in range(0,16000):\n",
    "    #     if (precursor -10) < data_masses[i] < (precursor +10): data_intensities[i] = 0\n",
    "        \n",
    "    return(list(data_intensities))"
   ]
  },
  {
   "cell_type": "code",
   "execution_count": 71,
   "metadata": {},
   "outputs": [
    {
     "data": {
      "text/plain": [
       "0.25"
      ]
     },
     "execution_count": 71,
     "metadata": {},
     "output_type": "execute_result"
    }
   ],
   "source": [
    "X = [cast_func(1004), cast_func(1008)]\n",
    "round(cosine_similarity(X)[1][0], 2)"
   ]
  },
  {
   "cell_type": "code",
   "execution_count": 47,
   "metadata": {},
   "outputs": [
    {
     "name": "stdout",
     "output_type": "stream",
     "text": [
      "197 is 0.0\n",
      "198 is 0.0\n",
      "199 is 0.01\n",
      "201 is 0.0\n"
     ]
    }
   ],
   "source": [
    "raw = RawFile(\"c:/20240708_chm134_Nadig_MAbPac-04A_Proteo06_Group01_Time00_biorep01_techrep01.raw\")\n",
    "ref_scan = cast_func(10244)\n",
    "scan_id = []\n",
    "scan_sim = []\n",
    "for i in range(1, raw.number_of_scans):\n",
    "    raw_scan = Scan.from_file(raw._raw_file_access, scan_number=i)\n",
    "    if str(helper_regex(raw_scan.scan_type)) == 'ms2':\n",
    "        X = [ref_scan, cast_func(i)]\n",
    "        result = round(cosine_similarity(X)[1][0], 2)\n",
    "        print(i, \"is\", result)\n",
    "        scan_id.append(i)\n",
    "        scan_sim.append(result)"
   ]
  }
 ],
 "metadata": {
  "kernelspec": {
   "display_name": "Python 3",
   "language": "python",
   "name": "python3"
  },
  "language_info": {
   "codemirror_mode": {
    "name": "ipython",
    "version": 3
   },
   "file_extension": ".py",
   "mimetype": "text/x-python",
   "name": "python",
   "nbconvert_exporter": "python",
   "pygments_lexer": "ipython3",
   "version": "3.8.19"
  }
 },
 "nbformat": 4,
 "nbformat_minor": 2
}
